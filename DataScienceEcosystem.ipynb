{
 "cells": [
  {
   "cell_type": "markdown",
   "id": "0eb0ca36-c105-420b-99ab-adb233156662",
   "metadata": {},
   "source": [
    "# Data Science Tools and Ecosystem"
   ]
  },
  {
   "cell_type": "markdown",
   "id": "efb662bd-6292-4e77-870a-cafa2b3b612e",
   "metadata": {},
   "source": [
    "\"In this notebook, Data Science Tools and Ecosystem are summarized.\""
   ]
  },
  {
   "cell_type": "markdown",
   "id": "a60f606b-cf90-4bdf-b355-56a7d9fae104",
   "metadata": {},
   "source": [
    "Some of the popular languages that Data Scientists use are:"
   ]
  },
  {
   "cell_type": "markdown",
   "id": "16c2d9b6-efca-4b84-b6e0-1322b8ce24b0",
   "metadata": {},
   "source": [
    "1. Python\n",
    "2. R\n",
    "3. C++"
   ]
  },
  {
   "cell_type": "markdown",
   "id": "58b9db8f-f876-4f89-9e58-03f84c120d50",
   "metadata": {},
   "source": [
    "Some of the commonly used libraries used by Data Scientists include:\n"
   ]
  },
  {
   "cell_type": "markdown",
   "id": "8e91c63a-771e-4b4c-9893-23e7abef9789",
   "metadata": {},
   "source": [
    "* Pandas\n",
    "* NumPy\n",
    "* Matplotlib"
   ]
  },
  {
   "cell_type": "markdown",
   "id": "a022671c-9aa1-4bfc-bf74-a034878e9e0f",
   "metadata": {},
   "source": [
    "|Data Science Tools|\n",
    "|------------------|\n",
    "|Jupyter Notebook|\n",
    "|RStudio|\n",
    "|Apache Spark|\n"
   ]
  },
  {
   "cell_type": "markdown",
   "id": "5402a115-0181-4de6-9b1f-dad35e8f8c67",
   "metadata": {},
   "source": [
    "### Below are a few examples of evaluating arithmetic expressions in Python"
   ]
  },
  {
   "cell_type": "code",
   "execution_count": 7,
   "id": "fad7a77c-86e6-48b5-960b-225196273330",
   "metadata": {},
   "outputs": [
    {
     "data": {
      "text/plain": [
       "17"
      ]
     },
     "execution_count": 7,
     "metadata": {},
     "output_type": "execute_result"
    }
   ],
   "source": [
    "# This a simple arithmetic expression to mutiply then add integers\n",
    "(3*4)+5"
   ]
  },
  {
   "cell_type": "code",
   "execution_count": 13,
   "id": "9e224619-e650-40fd-a1b4-2087041dd5a0",
   "metadata": {},
   "outputs": [
    {
     "name": "stdout",
     "output_type": "stream",
     "text": [
      "3.3333333333333335\n"
     ]
    }
   ],
   "source": [
    "minutes = 200\n",
    "hours = minutes / 60\n",
    "# This will convert 200 minutes to hours by diving by 60\n",
    "print (hours) "
   ]
  },
  {
   "cell_type": "markdown",
   "id": "7380a1f4-abd9-4f44-b963-c4f78842794b",
   "metadata": {},
   "source": [
    "**Objectives**:"
   ]
  },
  {
   "cell_type": "markdown",
   "id": "a70e1550-5eb8-4ee9-bdc2-c22822576981",
   "metadata": {},
   "source": [
    "* Python\n",
    "* R\n",
    "* SQL\n",
    "* Java\n",
    "* Julia"
   ]
  },
  {
   "cell_type": "markdown",
   "id": "16cf887a-8d04-4f7d-b442-8c8a1bad2d8e",
   "metadata": {},
   "source": [
    "## Author\n",
    "Athanasios Psimadas"
   ]
  },
  {
   "cell_type": "code",
   "execution_count": null,
   "id": "b99ef649-ed02-4746-bbd4-479a39ea0a1a",
   "metadata": {},
   "outputs": [],
   "source": []
  }
 ],
 "metadata": {
  "kernelspec": {
   "display_name": "Python 3 (ipykernel)",
   "language": "python",
   "name": "python3"
  },
  "language_info": {
   "codemirror_mode": {
    "name": "ipython",
    "version": 3
   },
   "file_extension": ".py",
   "mimetype": "text/x-python",
   "name": "python",
   "nbconvert_exporter": "python",
   "pygments_lexer": "ipython3",
   "version": "3.12.8"
  }
 },
 "nbformat": 4,
 "nbformat_minor": 5
}
